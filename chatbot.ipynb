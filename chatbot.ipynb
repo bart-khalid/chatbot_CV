{
 "cells": [
  {
   "cell_type": "markdown",
   "id": "5ba18e6c",
   "metadata": {},
   "source": [
    "# import packages "
   ]
  },
  {
   "cell_type": "code",
   "execution_count": 1,
   "id": "f0119f74",
   "metadata": {},
   "outputs": [
    {
     "name": "stdout",
     "output_type": "stream",
     "text": [
      "WARNING:tensorflow:From C:\\ProgramData\\Anaconda3\\lib\\site-packages\\tensorflow\\python\\compat\\v2_compat.py:96: disable_resource_variables (from tensorflow.python.ops.variable_scope) is deprecated and will be removed in a future version.\n",
      "Instructions for updating:\n",
      "non-resource variables are not supported in the long term\n",
      "curses is not supported on this machine (please install/reinstall curses for an optimal experience)\n"
     ]
    }
   ],
   "source": [
    "import nltk\n",
    "from nltk.stem.lancaster import LancasterStemmer\n",
    "stemmer = LancasterStemmer()\n",
    "import numpy\n",
    "import tflearn\n",
    "import tensorflow\n",
    "from tensorflow.python.framework import ops\n",
    "ops.reset_default_graph()\n",
    "import random\n",
    "import json\n",
    "import pickle"
   ]
  },
  {
   "cell_type": "markdown",
   "id": "3fecef86",
   "metadata": {},
   "source": [
    "# open json file"
   ]
  },
  {
   "cell_type": "code",
   "execution_count": 13,
   "id": "2a279675",
   "metadata": {},
   "outputs": [],
   "source": [
    "with open(\"intents.json\") as file:\n",
    "    data = json.load(file)"
   ]
  },
  {
   "cell_type": "markdown",
   "id": "2921479d",
   "metadata": {},
   "source": [
    "# Pre processing "
   ]
  },
  {
   "cell_type": "markdown",
   "id": "36beaf6c",
   "metadata": {},
   "source": [
    "## tokenization"
   ]
  },
  {
   "cell_type": "code",
   "execution_count": 14,
   "id": "9dbc0e7d",
   "metadata": {},
   "outputs": [],
   "source": [
    "words = []\n",
    "labels = []\n",
    "docs_x = []\n",
    "docs_y = []\n",
    "\n",
    "for intent in data[\"intents\"]:\n",
    "    for pattern in intent[\"patterns\"]:\n",
    "        wrds = nltk.word_tokenize(pattern)\n",
    "        words.extend(wrds)\n",
    "        docs_x.append(wrds)\n",
    "        docs_y.append(intent[\"tag\"])\n",
    "\n",
    "    if intent[\"tag\"] not in labels:\n",
    "        labels.append(intent[\"tag\"])"
   ]
  },
  {
   "cell_type": "markdown",
   "id": "80deb1ac",
   "metadata": {},
   "source": [
    "## Stemming"
   ]
  },
  {
   "cell_type": "code",
   "execution_count": 15,
   "id": "f832c233",
   "metadata": {},
   "outputs": [],
   "source": [
    "words = [stemmer.stem(w.lower()) for w in words if w != \"?\"]\n",
    "\n",
    "# sort \n",
    "words = sorted(list(set(words)))\n",
    "labels = sorted(labels)"
   ]
  },
  {
   "cell_type": "markdown",
   "id": "e4df6bcd",
   "metadata": {},
   "source": [
    "## spliting Data "
   ]
  },
  {
   "cell_type": "code",
   "execution_count": 16,
   "id": "29562e74",
   "metadata": {},
   "outputs": [],
   "source": [
    "training = []\n",
    "output = []\n",
    "out_empty = [0 for _ in range(len(labels))]"
   ]
  },
  {
   "cell_type": "markdown",
   "id": "15a621af",
   "metadata": {},
   "source": [
    "### bag of words "
   ]
  },
  {
   "cell_type": "code",
   "execution_count": 17,
   "id": "c1aa1d4c",
   "metadata": {},
   "outputs": [],
   "source": [
    "# one hot encoding\n",
    "for x, doc in enumerate(docs_x):\n",
    "    bag = []\n",
    "\n",
    "    wrds = [stemmer.stem(w.lower()) for w in doc]\n",
    "\n",
    "    for w in words:\n",
    "        if w in wrds:\n",
    "            bag.append(1)\n",
    "        else:\n",
    "            bag.append(0)\n",
    "\n",
    "    output_row = out_empty[:]\n",
    "    output_row[labels.index(docs_y[x])] = 1\n",
    "\n",
    "    training.append(bag)\n",
    "    output.append(output_row)"
   ]
  },
  {
   "cell_type": "markdown",
   "id": "ebed8931",
   "metadata": {},
   "source": [
    "### prepared data "
   ]
  },
  {
   "cell_type": "code",
   "execution_count": 18,
   "id": "7c66dbcb",
   "metadata": {},
   "outputs": [],
   "source": [
    "training = numpy.array(training)\n",
    "output = numpy.array(output)\n",
    "\n",
    "with open(\"data.pickle\", \"wb\") as f:\n",
    "        pickle.dump((words, labels, training, output), f)"
   ]
  },
  {
   "cell_type": "markdown",
   "id": "01a0aee4",
   "metadata": {},
   "source": [
    "# Training"
   ]
  },
  {
   "cell_type": "markdown",
   "id": "ea1f6493",
   "metadata": {},
   "source": [
    "## DNN model "
   ]
  },
  {
   "cell_type": "code",
   "execution_count": 8,
   "id": "c69c2940",
   "metadata": {},
   "outputs": [
    {
     "name": "stdout",
     "output_type": "stream",
     "text": [
      "WARNING:tensorflow:From C:\\ProgramData\\Anaconda3\\lib\\site-packages\\tflearn\\initializations.py:164: calling TruncatedNormal.__init__ (from tensorflow.python.ops.init_ops) with dtype is deprecated and will be removed in a future version.\n",
      "Instructions for updating:\n",
      "Call initializer instance with the dtype argument instead of passing it to the constructor\n"
     ]
    }
   ],
   "source": [
    "net = tflearn.input_data(shape=[None, len(training[0])])\n",
    "net = tflearn.fully_connected(net, 8)\n",
    "net = tflearn.fully_connected(net, 8)\n",
    "net = tflearn.fully_connected(net, len(output[0]), activation=\"softmax\")\n",
    "net = tflearn.regression(net)\n",
    "\n",
    "model = tflearn.DNN(net)"
   ]
  },
  {
   "cell_type": "markdown",
   "id": "35038597",
   "metadata": {},
   "source": [
    "## fiting the model"
   ]
  },
  {
   "cell_type": "code",
   "execution_count": 9,
   "id": "f95220ed",
   "metadata": {},
   "outputs": [
    {
     "name": "stdout",
     "output_type": "stream",
     "text": [
      "Training Step: 14999  | total loss: \u001b[1m\u001b[32m0.01809\u001b[0m\u001b[0m | time: 0.033s\n",
      "| Adam | epoch: 1500 | loss: 0.01809 - acc: 0.9947 -- iter: 72/76\n",
      "Training Step: 15000  | total loss: \u001b[1m\u001b[32m0.01686\u001b[0m\u001b[0m | time: 0.038s\n",
      "| Adam | epoch: 1500 | loss: 0.01686 - acc: 0.9953 -- iter: 76/76\n",
      "--\n",
      "INFO:tensorflow:C:\\Users\\kamal\\Desktop\\cv_chatbot\\model.tflearn is not in all_model_checkpoint_paths. Manually adding it.\n"
     ]
    }
   ],
   "source": [
    "model.fit(training, output, n_epoch=1500, batch_size=8, show_metric=True)\n",
    "model.save(\"model.tflearn\")"
   ]
  },
  {
   "cell_type": "markdown",
   "id": "03a50eaa",
   "metadata": {},
   "source": [
    "# Testing"
   ]
  },
  {
   "cell_type": "markdown",
   "id": "2e465306",
   "metadata": {},
   "source": [
    "## bag of words for the input "
   ]
  },
  {
   "cell_type": "code",
   "execution_count": 10,
   "id": "4bd3a71b",
   "metadata": {},
   "outputs": [],
   "source": [
    "def bag_of_words(s, words):\n",
    "    bag = [0 for _ in range(len(words))]\n",
    "\n",
    "    s_words = nltk.word_tokenize(s)\n",
    "    s_words = [stemmer.stem(word.lower()) for word in s_words]\n",
    "\n",
    "    for se in s_words:\n",
    "        for i, w in enumerate(words):\n",
    "            if w == se:\n",
    "                bag[i] = 1\n",
    "            \n",
    "    return numpy.array(bag)"
   ]
  },
  {
   "cell_type": "markdown",
   "id": "13a42c7f",
   "metadata": {},
   "source": [
    "## predicting the answer "
   ]
  },
  {
   "cell_type": "code",
   "execution_count": 11,
   "id": "b339dd5b",
   "metadata": {},
   "outputs": [],
   "source": [
    "def chat():\n",
    "    print(\"Start talking with the bot (To stop, type quit or any expression to say bye)!\")\n",
    "    while True:\n",
    "        inp = input(\"You: \")\n",
    "        if inp.lower() == \"quit\":\n",
    "            break\n",
    "\n",
    "        results = model.predict([bag_of_words(inp, words)])\n",
    "        results_index = numpy.argmax(results)\n",
    "        tag = labels[results_index]\n",
    "\n",
    "        for tg in data[\"intents\"]:\n",
    "            if tg['tag'] == tag:\n",
    "                responses = tg['responses']\n",
    "\n",
    "        print(\"KHALID : \",random.choice(responses),\"\\n\")\n",
    "        if tag == \"goodbye\":\n",
    "            break"
   ]
  },
  {
   "cell_type": "markdown",
   "id": "c7d619c1",
   "metadata": {},
   "source": [
    "## run  "
   ]
  },
  {
   "cell_type": "code",
   "execution_count": 12,
   "id": "4f353556",
   "metadata": {},
   "outputs": [
    {
     "name": "stdout",
     "output_type": "stream",
     "text": [
      "Start talking with the bot (To stop, type quit or any expression to say bye)!\n",
      "You: hi\n",
      "KHALID :  Good to see you again! \n",
      "\n",
      "You: how are you\n",
      "KHALID :  Thank you for asking, I'm fine, hope you're doing well too ! \n",
      "\n",
      "You: akills\n",
      "KHALID :  Sorry I didn't get it, please try another question ! \n",
      "\n",
      "You: skills\n",
      "KHALID :  MY TECHNICAL SKILLS --- ***** --- *** Programming Languages *** : PYTHON, R, JAVA, C, JAVASCRIPT, PHP. *** Data Science Skills *** : Machine Learning, Deep learning, Artificial Intelligence, Data Manipulation, DataVisualization, Business Intelligence, Data mining, Web scraping, *** Machine Learning and Deep Learning *** : Tensorflow, sklearn, NLP, ** models ** : SVM, KNN, Decesion Tree, Random Forest, K-means, PCA, RNN, CNN... *** Data processing *** : numpy, pandas. *** Data visualization *** : matplotlib, tableau. *** Web Development *** : Spring Boot, Angular, Laravel, Mysql, Nosql. \n",
      "\n",
      "You: projects\n",
      "KHALID :  MY ACADEMIC PROJECTS --- ***** --- *** Chatbot application (05/2021 - 06/2021) *** : We were a team of three, we built a chatbot application designed to answer any question about machine learning mainly, and also to assist a user in simple every day questions, like historical or famous people and places, or entertain him with jokes or play him a song, link to the app : https://github.com/bart-khalid/chatBot  .  *** Sentiment Detector, face recognition and chatbot (04/2021 - 06/2021) *** : we have created a Chatbot that interacts with the identified person based on his detected feeling, link to the app : https://github.com/bart-khalid/RFASC . \n",
      "\n",
      "You: help\n",
      "KHALID :  Sorry I didn't get it, please try another question ! \n",
      "\n",
      "You: how can I help you\n",
      "KHALID :  Happy to ask, I'm looking for an end of studies internship of 4 to 6 months starting February 2022  \n",
      "\n",
      "You: contact\n",
      "KHALID :  YOU CAN CONTACT ME VIA --- ***** --- ** email ** : bartyouger@gmail.com, ** TEL ** : +212699816258, ** LinkedIn ** : bartaouch khalid, ** github ** : bart-khalid, ** portfolio ** : https://bartaouch-khalid.me \n",
      "\n",
      "You: lks\n",
      "KHALID :  Sorry I didn't get it, please try another question ! \n",
      "\n",
      "You: jdnc\n",
      "KHALID :  Sorry I didn't get it, please try another question ! \n",
      "\n",
      "You: lolipop\n",
      "KHALID :  Sorry I didn't get it, please try another question ! \n",
      "\n",
      "You: vb\n",
      "KHALID :  Sorry I didn't get it, please try another question ! \n",
      "\n",
      "You: hi \n",
      "KHALID :  Good to see you again! \n",
      "\n",
      "You: how\n",
      "KHALID :  Thank you for asking, I'm fine, hope you're doing well too ! \n",
      "\n",
      "You: nee\n",
      "KHALID :  I'm a Second year student of a master's degree in Data Science and Decision Support at the Faculty of Sciences and Technologies, in Morocco. I graduated in distributed computer systems after I'd had my baccalaureate in 2017. I am passionate about computer science. \n",
      "\n",
      "You: need\n",
      "KHALID :  I'm a Second year student of a master's degree in Data Science and Decision Support at the Faculty of Sciences and Technologies, in Morocco. I graduated in distributed computer systems after I'd had my baccalaureate in 2017. I am passionate about computer science. \n",
      "\n",
      "You: about\n",
      "KHALID :  I'm a Second year student of a master's degree in Data Science and Decision Support at the Faculty of Sciences and Technologies, in Morocco. I graduated in distributed computer systems after I'd had my baccalaureate in 2017. I am passionate about computer science. \n",
      "\n",
      "You: what do you want\n",
      "KHALID :  Happy to ask, I'm looking for an end of studies internship of 4 to 6 months starting February 2022  \n",
      "\n",
      "You: ok\n",
      "KHALID :  Sorry I didn't get it, please try another question ! \n",
      "\n",
      "You: yeah\n",
      "KHALID :  Sorry I didn't get it, please try another question ! \n",
      "\n",
      "You: how are you doing\n",
      "KHALID :  Thank you for asking, I'm fine, hope you're doing well too ! \n",
      "\n",
      "You: quit\n"
     ]
    }
   ],
   "source": [
    "chat()"
   ]
  }
 ],
 "metadata": {
  "kernelspec": {
   "display_name": "Python 3",
   "language": "python",
   "name": "python3"
  },
  "language_info": {
   "codemirror_mode": {
    "name": "ipython",
    "version": 3
   },
   "file_extension": ".py",
   "mimetype": "text/x-python",
   "name": "python",
   "nbconvert_exporter": "python",
   "pygments_lexer": "ipython3",
   "version": "3.8.8"
  }
 },
 "nbformat": 4,
 "nbformat_minor": 5
}
